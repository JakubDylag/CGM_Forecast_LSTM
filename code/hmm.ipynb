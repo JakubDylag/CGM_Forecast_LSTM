{
 "cells": [
  {
   "cell_type": "code",
   "execution_count": 1,
   "metadata": {
    "collapsed": true
   },
   "outputs": [],
   "source": [
    "import numpy as np\n",
    "import pandas as pd\n",
    "from hmmlearn import hmm\n",
    "import matplotlib.pyplot as plt\n",
    "import torch\n",
    "\n",
    "import DHMM\n",
    "from hmmlearn.hmm import MultinomialHMM\n",
    "from torch.nn import MSELoss"
   ]
  },
  {
   "cell_type": "code",
   "execution_count": 2,
   "outputs": [
    {
     "data": {
      "text/plain": "<module 'DHMM' from 'C:\\\\Users\\\\jakub\\\\Documents\\\\DATA\\\\Indv_proj\\\\code\\\\DHMM.py'>"
     },
     "execution_count": 2,
     "metadata": {},
     "output_type": "execute_result"
    }
   ],
   "source": [
    "import importlib\n",
    "importlib.reload(DHMM)"
   ],
   "metadata": {
    "collapsed": false,
    "pycharm": {
     "name": "#%%\n"
    }
   }
  },
  {
   "cell_type": "code",
   "execution_count": 3,
   "outputs": [],
   "source": [
    "# Load Test Set\n",
    "\n",
    "import pickle\n",
    "\n",
    "dataset_path = \"timeseries_all-patients_step-144_len-49769.pkl\"\n",
    "[X_train, X_test, y_train, y_test] = pickle.load(open(dataset_path, 'rb'))\n"
   ],
   "metadata": {
    "collapsed": false,
    "pycharm": {
     "name": "#%%\n"
    }
   }
  },
  {
   "cell_type": "code",
   "execution_count": 4,
   "outputs": [],
   "source": [
    "def Dstate_sorting(Model):\n",
    "    last_col= Model.emissionprob_[:,-1] # Choose the last column\n",
    "    last_col=last_col.ravel().tolist()\n",
    "    last_col_sorted=last_col[:]   # Another copy of the list to compare the sorted and normal list\n",
    "    last_col_sorted.sort(reverse=True)   #since the higher probability the better(Remember the last column corresponds to the best observations.)\n",
    "    result = [last_col.index(ii) for ii in last_col_sorted]\n",
    "    return result\n",
    "\n",
    "def Viterbi_list(Model, Test_data, Feat):   # Test_data is list of numpy arrays.\n",
    "    traj=[]\n",
    "\n",
    "    mapping=Dstate_sorting(Model)   # what this one does is the order of elements in descending order\n",
    "\n",
    "    Temp=mapping[:]\n",
    "    for ii in range(Test_data.shape[0]):\n",
    "        count10=1000\n",
    "        seq1=Test_data[ii,:].reshape((-1,Feat))\n",
    "        States_Viterbi=Model.predict(seq1)\n",
    "        L=len(mapping)   # This is number of states\n",
    "        # we want the highest mastery level is mapped to the highest number.\n",
    "        for kk in range(L):\n",
    "            for jj in range(len(States_Viterbi)):\n",
    "                if (States_Viterbi[jj]==mapping[0]):\n",
    "                    States_Viterbi[jj]=count10\n",
    "\n",
    "            del mapping[0]\n",
    "            count10=count10-1\n",
    "        mapping=Temp[:]\n",
    "\n",
    "        traj.append(States_Viterbi)\n",
    "    count10=1000\n",
    "    for mm in range(len(traj)):\n",
    "        ML_old=list(range(count10,count10-L,-1))\n",
    "        for zz in range(L):\n",
    "            for vv in range(len(traj[mm])):\n",
    "                if(traj[mm][vv]==ML_old[0]):\n",
    "                    traj[mm][vv]=ML_old[0]-(count10-L)\n",
    "            del ML_old[0]\n",
    "    return traj\n"
   ],
   "metadata": {
    "collapsed": false,
    "pycharm": {
     "name": "#%%\n"
    }
   }
  },
  {
   "cell_type": "code",
   "execution_count": 6,
   "outputs": [],
   "source": [
    "Max_state=3\n",
    "N_symb=3\n",
    "Iter=1000\n",
    "\n",
    "Train_ratio=0.8\n",
    "Feat=1\n",
    "N=len(X_train)\n",
    "T=132\n",
    "flag=0\n",
    "\n",
    "\n",
    "X_train = X_train.reshape((X_train.shape[0], X_train.shape[1]))\n",
    "Data_train = X_train.astype(int)\n",
    "\n",
    "Model = MultinomialHMM(n_components=Max_state, tol=pow(10,-5))\n",
    "\n",
    "# Len=[T for ii in range(0,Data_train.shape[0])]   # Lengths must be list\n",
    "# Model = Model.fit(X_train, Len)\n",
    "\n",
    "Model = Model.fit(Data_train) #Train\n"
   ],
   "metadata": {
    "collapsed": false,
    "pycharm": {
     "name": "#%%\n"
    }
   }
  },
  {
   "cell_type": "code",
   "execution_count": 5,
   "outputs": [
    {
     "ename": "FileNotFoundError",
     "evalue": "[Errno 2] No such file or directory: 'hmm_state100_10000.pkl'",
     "output_type": "error",
     "traceback": [
      "\u001B[1;31m---------------------------------------------------------------------------\u001B[0m",
      "\u001B[1;31mFileNotFoundError\u001B[0m                         Traceback (most recent call last)",
      "\u001B[1;32m~\\AppData\\Local\\Temp/ipykernel_16080/2774451223.py\u001B[0m in \u001B[0;36m<module>\u001B[1;34m\u001B[0m\n\u001B[0;32m      1\u001B[0m \u001B[1;32mimport\u001B[0m \u001B[0mpickle\u001B[0m\u001B[1;33m\u001B[0m\u001B[1;33m\u001B[0m\u001B[0m\n\u001B[1;32m----> 2\u001B[1;33m \u001B[0mModel\u001B[0m \u001B[1;33m=\u001B[0m \u001B[0mpickle\u001B[0m\u001B[1;33m.\u001B[0m\u001B[0mload\u001B[0m\u001B[1;33m(\u001B[0m\u001B[0mopen\u001B[0m\u001B[1;33m(\u001B[0m\u001B[1;34m'hmm_state100_10000.pkl'\u001B[0m\u001B[1;33m,\u001B[0m \u001B[1;34m'rb'\u001B[0m\u001B[1;33m)\u001B[0m\u001B[1;33m)\u001B[0m\u001B[1;33m\u001B[0m\u001B[1;33m\u001B[0m\u001B[0m\n\u001B[0m",
      "\u001B[1;31mFileNotFoundError\u001B[0m: [Errno 2] No such file or directory: 'hmm_state100_10000.pkl'"
     ]
    }
   ],
   "source": [
    "import pickle\n",
    "Model = pickle.load(open('hmm_state100_10000.pkl', 'rb'))"
   ],
   "metadata": {
    "collapsed": false,
    "pycharm": {
     "name": "#%%\n"
    }
   }
  },
  {
   "cell_type": "code",
   "execution_count": 13,
   "outputs": [
    {
     "name": "stdout",
     "output_type": "stream",
     "text": [
      "avg loss =  19987.830994951884\n",
      "avg ESOD: 7397.382289362593\n"
     ]
    }
   ],
   "source": [
    "y_test = y_test.reshape((y_test.shape[0], y_test.shape[1]))\n",
    "Test_data = y_test.astype(int)\n",
    "\n",
    "\n",
    "import math\n",
    "\n",
    "preds = Viterbi_list(Model, Test_data, 1)\n",
    "loss_func = MSELoss()\n",
    "total_loss = 0\n",
    "esod = 0\n",
    "\n",
    "for i in range(0, len(Test_data)):\n",
    "    pred = preds[i]*(400 / Max_state)\n",
    "    y = Test_data[i]\n",
    "\n",
    "    #mse\n",
    "    pred_t = torch.Tensor(pred)\n",
    "    y_t = torch.Tensor(y)\n",
    "    loss = loss_func(pred_t, y_t).item()\n",
    "    total_loss += loss\n",
    "\n",
    "    #esod\n",
    "    esod_pred = 0\n",
    "    esod_y = 0\n",
    "    for j in range(2, len(pred)):\n",
    "        esod_pred += math.pow((pred[j] - 2*pred[j-1] + pred[j-2]), 2)\n",
    "        esod_y += math.pow((y[j] - 2*y[j-1] + y[j-2]), 2)\n",
    "    if (esod_y != 0):\n",
    "        esod += esod_pred / esod_y\n",
    "\n",
    "print(\"avg loss = \", total_loss/len(Test_data))\n",
    "print(\"avg ESOD:\", esod/len(Test_data))\n",
    "\n",
    "\n",
    "# for Test in Test_data:\n",
    "#     # pred = Model.predict([Test])\n",
    "#\n",
    "#     # print(pred)\n",
    "#\n",
    "#     # plt.plot(range(0,12), Test )\n",
    "#     # plt.plot(range(0,12), pred*(400 / Max_state) )\n",
    "#     # plt.plot(range(0,12), pred2[0]*(400 / Max_state) )\n",
    "#\n",
    "#     break\n"
   ],
   "metadata": {
    "collapsed": false,
    "pycharm": {
     "name": "#%%\n"
    }
   }
  },
  {
   "cell_type": "code",
   "execution_count": 7,
   "outputs": [],
   "source": [
    "#save\n",
    "import pickle\n",
    "pickle.dump(Model, open('hmm_state3_1000.pkl', 'wb'))"
   ],
   "metadata": {
    "collapsed": false,
    "pycharm": {
     "name": "#%%\n"
    }
   }
  },
  {
   "cell_type": "markdown",
   "source": [
    "## DEMO"
   ],
   "metadata": {
    "collapsed": false
   }
  },
  {
   "cell_type": "code",
   "execution_count": 103,
   "outputs": [
    {
     "name": "stdout",
     "output_type": "stream",
     "text": [
      "(39815, 132, 1)\n",
      "(9954, 132, 1)\n"
     ]
    }
   ],
   "source": [
    "print(X_train.shape)\n",
    "print(X_test.shape)"
   ],
   "metadata": {
    "collapsed": false,
    "pycharm": {
     "name": "#%%\n"
    }
   }
  },
  {
   "cell_type": "code",
   "execution_count": 119,
   "outputs": [
    {
     "name": "stdout",
     "output_type": "stream",
     "text": [
      "The Number of States is 3\n",
      "-29841629.63351068\n"
     ]
    }
   ],
   "source": [
    "Train_ratio=0.8\n",
    "Max_state=3\n",
    "Iter=2000\n",
    "Feat=1\n",
    "N=len(X_train)\n",
    "T=132\n",
    "flag=0\n",
    "N_symb=3\n",
    "\n",
    "# Path= 'Exam_4_25_2020.csv'\n",
    "# Data=pd.read_csv(Path)\n",
    "# Data=Data.astype(int)\n",
    "# Data_train = (Data.iloc[0:int(N*Train_ratio),:])\n",
    "# Test_data=(np.array(Data.iloc[int(N*Train_ratio):N,:]))\n",
    "\n",
    "X_train = X_train.reshape((X_train.shape[0], X_train.shape[1]))\n",
    "y_test = y_test.reshape((y_test.shape[0], y_test.shape[1]))\n",
    "Data_train = X_train.astype(int)\n",
    "Test_data = y_test.astype(int)\n",
    "\n",
    "First_DHMM = DHMM.Supervised_DHMM(Train_ratio,Max_state,Iter,Feat,N,T,N_symb)\n",
    "\n",
    "out, score = First_DHMM.Best_States(Data_train, Test_data)\n",
    "\n",
    "\n",
    "print(score)"
   ],
   "metadata": {
    "collapsed": false,
    "pycharm": {
     "name": "#%%\n"
    }
   }
  },
  {
   "cell_type": "code",
   "execution_count": 117,
   "outputs": [
    {
     "data": {
      "text/plain": "[<matplotlib.lines.Line2D at 0x15f0067b3a0>]"
     },
     "execution_count": 117,
     "metadata": {},
     "output_type": "execute_result"
    },
    {
     "data": {
      "text/plain": "<Figure size 432x288 with 1 Axes>",
      "image/png": "[encoded data removed]"
     },
     "metadata": {
      "needs_background": "light"
     },
     "output_type": "display_data"
    }
   ],
   "source": [
    "i = 10\n",
    "plt.plot(range(0,T), Test_data[i] )\n",
    "plt.plot(range(0,T), out[i]*(max(Test_data[i]) / Max_state) )\n",
    "\n"
   ],
   "metadata": {
    "collapsed": false,
    "pycharm": {
     "name": "#%%\n"
    }
   }
  },
  {
   "cell_type": "code",
   "execution_count": 14,
   "outputs": [
    {
     "name": "stdout",
     "output_type": "stream",
     "text": [
      "Exam_4_25_2020\n"
     ]
    }
   ],
   "source": [
    "url=\"https://raw.githubusercontent.com/manitadayon/Auto_HMM/main/Exam_4_25_2020.csv\"\n",
    "save_name=\"Exam_4_25_2020\"\n",
    "\n",
    "import urllib\n",
    "path_folder = \"C:/Users/jakub/Documents/DATA/Indv_proj/code/\"\n",
    "save_name = save_name.replace(' ', '_')\n",
    "print(save_name)\n",
    "with urllib.request.urlopen(url) as f:\n",
    "    text = f.read()\n",
    "    with open(path_folder+save_name+\".csv\", 'wb') as f2:\n",
    "        f2.write(text)\n",
    "        f2.close()"
   ],
   "metadata": {
    "collapsed": false,
    "pycharm": {
     "name": "#%%\n"
    }
   }
  }
 ],
 "metadata": {
  "kernelspec": {
   "display_name": "Python 3",
   "language": "python",
   "name": "python3"
  },
  "language_info": {
   "codemirror_mode": {
    "name": "ipython",
    "version": 2
   },
   "file_extension": ".py",
   "mimetype": "text/x-python",
   "name": "python",
   "nbconvert_exporter": "python",
   "pygments_lexer": "ipython2",
   "version": "2.7.6"
  }
 },
 "nbformat": 4,
 "nbformat_minor": 0
}