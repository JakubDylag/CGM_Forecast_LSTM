{
 "cells": [
  {
   "cell_type": "code",
   "execution_count": 1,
   "outputs": [],
   "source": [
    "import numpy as np\n",
    "# import matplotlib as mpl\n",
    "import matplotlib.pyplot as plt\n",
    "import IPython\n",
    "from IPython.display import display\n",
    "\n",
    "import torch\n",
    "import torch.nn as nn\n",
    "import torch.nn.functional as F\n",
    "import torch.optim as optim\n",
    "from torch.utils.data import Dataset\n",
    "from torch.utils.data import DataLoader\n",
    "\n",
    "import train_lstm\n",
    "import models"
   ],
   "metadata": {
    "collapsed": false,
    "pycharm": {
     "name": "#%%\n"
    }
   }
  },
  {
   "cell_type": "code",
   "execution_count": 2,
   "outputs": [
    {
     "data": {
      "text/plain": "<module 'models' from 'C:\\\\Users\\\\jakub\\\\Documents\\\\DATA\\\\Indv_proj\\\\code\\\\models.py'>"
     },
     "execution_count": 2,
     "metadata": {},
     "output_type": "execute_result"
    }
   ],
   "source": [
    "import importlib\n",
    "importlib.reload(train_lstm)\n",
    "importlib.reload(models)"
   ],
   "metadata": {
    "collapsed": false,
    "pycharm": {
     "name": "#%%\n"
    }
   }
  },
  {
   "cell_type": "markdown",
   "source": [
    "## Define Model"
   ],
   "metadata": {
    "collapsed": false
   }
  },
  {
   "cell_type": "code",
   "execution_count": 7,
   "outputs": [],
   "source": [
    "seed = 1289719\n",
    "series_min_len = 144 #12hrs\n",
    "pred_horizon = 12 # 1hr\n",
    "input_size = series_min_len - pred_horizon\n",
    "output_size = pred_horizon\n",
    "\n",
    "# Hyper-parameters\n",
    "hidden_size = 8 #The number of features in the hidden state h\n",
    "num_layers = 3 #number of stacked layers\n",
    "drop_out = 0\n",
    "\n",
    "# model_name = \"saves/all_data/\"+str(num_layers)+\"_layer/lstm_hid\"+str(hidden_size)+\"_drop01_\"\n",
    "model_name = \"saves/outputs/lstm_hid8_output\"\n",
    "# dataset_path = 'timeseries_all-patients_step-1_len-6391075.pkl'\n",
    "dataset_path = 'timeseries_all-patients_step-144_len-49769.pkl'\n",
    "\n",
    "# group_id = 2\n",
    "# model_name = \"saves/grouped/hba1c-bmi/\"+str(num_layers)+\"_layer_\"+str(group_id)+\"/lstm_hid\"+str(hidden_size)+\"_\"\n",
    "# dataset_path = \"timeseries_\"+str(group_id)+\"-patients_step-1.pkl\""
   ],
   "metadata": {
    "collapsed": false,
    "pycharm": {
     "name": "#%%\n"
    }
   }
  },
  {
   "cell_type": "code",
   "execution_count": 8,
   "outputs": [
    {
     "name": "stdout",
     "output_type": "stream",
     "text": [
      "Training on GPU!\n"
     ]
    }
   ],
   "source": [
    "epochs = 20\n",
    "batch_size = 128\n",
    "learning_rate = 0.001\n",
    "save_every = 1\n",
    "test_every = save_every\n",
    "\n",
    "epoch_start = 0\n",
    "\n",
    "device = torch.device('cuda' if torch.cuda.is_available() else 'cpu')\n",
    "if torch.cuda.is_available():\n",
    "    print('Training on GPU!')\n",
    "else:\n",
    "    print('No GPU available, training on CPU; consider making n_epochs very small.')\n",
    "\n",
    "lstm_trainer = train_lstm.LSTM_Trainer(seed, device)"
   ],
   "metadata": {
    "collapsed": false,
    "pycharm": {
     "name": "#%%\n"
    }
   }
  },
  {
   "cell_type": "markdown",
   "source": [
    "## Training"
   ],
   "metadata": {
    "collapsed": false
   }
  },
  {
   "cell_type": "code",
   "execution_count": 6,
   "outputs": [],
   "source": [
    "lstm_trainer.load_train(dataset_path, batch_size, input_size, pred_horizon)"
   ],
   "metadata": {
    "collapsed": false,
    "pycharm": {
     "name": "#%%\n"
    }
   }
  },
  {
   "cell_type": "code",
   "execution_count": 7,
   "outputs": [],
   "source": [
    "lstm = models.LSTM(1, 1, num_layers, hidden_size, drop_out, learning_rate).to(device)\n",
    "loss_func = nn.MSELoss()\n",
    "optimizer= torch.optim.Adam(lstm.parameters(), lr=learning_rate)\n",
    "# optimiser = optim.LBFGS(model.parameters(), lr=0.08)\n",
    "\n",
    "lstm_trainer.set_model(lstm, loss_func, optimizer)\n"
   ],
   "metadata": {
    "collapsed": false,
    "pycharm": {
     "name": "#%%\n"
    }
   }
  },
  {
   "cell_type": "code",
   "execution_count": null,
   "outputs": [],
   "source": [
    "epoch_start = 0"
   ],
   "metadata": {
    "collapsed": false,
    "pycharm": {
     "name": "#%%\n"
    }
   }
  },
  {
   "cell_type": "code",
   "execution_count": 8,
   "outputs": [],
   "source": [
    "#Load Weights\n",
    "epoch_load = 9\n",
    "epoch_start = lstm_trainer.load_weights(model_name+str(epoch_load)+\".pt\")"
   ],
   "metadata": {
    "collapsed": false,
    "pycharm": {
     "name": "#%%\n"
    }
   }
  },
  {
   "cell_type": "code",
   "execution_count": 9,
   "outputs": [
    {
     "name": "stdout",
     "output_type": "stream",
     "text": [
      "Epoch 9\n",
      "---------\n",
      "Train loss: 21.66812293053915\n",
      "347.2015130519867\n",
      "SAVING\n",
      "\n",
      "Epoch 10\n",
      "---------\n",
      "Train loss: 21.515552014046815\n",
      "342.42006039619446\n",
      "SAVING\n",
      "\n",
      "Epoch 11\n",
      "---------\n",
      "Train loss: 3104.40071922093\n",
      "357.02722573280334\n",
      "SAVING\n",
      "\n",
      "Epoch 12\n",
      "---------\n",
      "Train loss: 6953.678932989095\n",
      "357.0648498535156\n",
      "SAVING\n",
      "\n",
      "Epoch 13\n",
      "---------\n",
      "Train loss: 5721.927470978672\n",
      "356.5792465209961\n",
      "SAVING\n",
      "\n",
      "Epoch 14\n",
      "---------\n",
      "Train loss: 146.0393692146865\n",
      "357.3381612300873\n",
      "SAVING\n",
      "\n",
      "Epoch 15\n",
      "---------\n",
      "Train loss: 2182.608349182647\n",
      "364.2921621799469\n",
      "SAVING\n",
      "\n",
      "Epoch 16\n",
      "---------\n",
      "Train loss: 195.58443508123364\n",
      "364.00043964385986\n",
      "SAVING\n",
      "\n",
      "Epoch 17\n",
      "---------\n",
      "Train loss: 39.41293449285344\n",
      "363.2556505203247\n",
      "SAVING\n",
      "\n",
      "Epoch 18\n",
      "---------\n",
      "Train loss: 26.267129870113333\n",
      "352.1173167228699\n",
      "SAVING\n",
      "\n",
      "Epoch 19\n",
      "---------\n",
      "Train loss: 31.484850062771024\n",
      "355.38667130470276\n",
      "SAVING\n",
      "\n",
      "Epoch 20\n",
      "---------\n",
      "Train loss: 648.5622192809607\n",
      "355.9535448551178\n",
      "SAVING\n",
      "\n"
     ]
    }
   ],
   "source": [
    "#Training Loop\n",
    "\n",
    "import time\n",
    "for epoch in range(epoch_start+1, epochs+1):\n",
    "    start = time.time()\n",
    "    print(f\"Epoch {epoch}\\n---------\")\n",
    "    lstm_trainer.train()\n",
    "    end = time.time()\n",
    "    print(end-start)\n",
    "\n",
    "    #save model\n",
    "    if epoch % save_every == 0:\n",
    "        print(\"SAVING\")\n",
    "        torch.save({\n",
    "            'epoch': epoch,\n",
    "            'model_state_dict':lstm.state_dict(),\n",
    "            'optimizer_state_dict':optimizer.state_dict()\n",
    "        }, model_name+str(epoch)+\".pt\")\n",
    "\n",
    "    #test model\n",
    "    # if epoch % test_every == 0:\n",
    "        # lstm_trainer.test(500)\n",
    "    print()"
   ],
   "metadata": {
    "collapsed": false,
    "pycharm": {
     "name": "#%%\n"
    }
   }
  },
  {
   "cell_type": "code",
   "execution_count": null,
   "outputs": [],
   "source": [
    "e = 2\n",
    "torch.save({\n",
    "    'epoch': e,\n",
    "    'model_state_dict':lstm.state_dict(),\n",
    "    'optimizer_state_dict':optimizer.state_dict()\n",
    "}, model_name+str(e)+\".pt\")\n"
   ],
   "metadata": {
    "collapsed": false,
    "pycharm": {
     "name": "#%%\n",
     "is_executing": true
    }
   }
  },
  {
   "cell_type": "code",
   "execution_count": null,
   "outputs": [],
   "source": [
    "lstm_trainer.clear()"
   ],
   "metadata": {
    "collapsed": false,
    "pycharm": {
     "name": "#%%\n"
    }
   }
  },
  {
   "cell_type": "markdown",
   "source": [
    "## Testing"
   ],
   "metadata": {
    "collapsed": false
   }
  },
  {
   "cell_type": "code",
   "execution_count": 6,
   "outputs": [],
   "source": [
    "importlib.reload(train_lstm)\n",
    "lstm_trainer = train_lstm.LSTM_Trainer(seed, device)"
   ],
   "metadata": {
    "collapsed": false,
    "pycharm": {
     "name": "#%%\n"
    }
   }
  },
  {
   "cell_type": "code",
   "execution_count": 9,
   "outputs": [],
   "source": [
    "#load test set\n",
    "lstm_trainer.load_test(dataset_path, 1024, input_size, pred_horizon, 0)"
   ],
   "metadata": {
    "collapsed": false,
    "pycharm": {
     "name": "#%%\n"
    }
   }
  },
  {
   "cell_type": "code",
   "execution_count": 10,
   "outputs": [
    {
     "name": "stdout",
     "output_type": "stream",
     "text": [
      "{'hidden_size': 8, 'layer': 3, 'epoch': 8}\n",
      "MSE loss: 852.0237058227666\n",
      "18.66484308242798\n"
     ]
    }
   ],
   "source": [
    "# tests = [{'hidden_size': 8, 'layer': 3, 'epoch': 1},\n",
    "#          {'hidden_size': 8, 'layer': 3, 'epoch': 2},\n",
    "#          {'hidden_size': 8, 'layer': 3, 'epoch': 3},\n",
    "#          {'hidden_size': 8, 'layer': 3, 'epoch': 4},\n",
    "#          {'hidden_size': 8, 'layer': 3, 'epoch': 5},\n",
    "#          {'hidden_size': 8, 'layer': 3, 'epoch': 6},\n",
    "#          {'hidden_size': 8, 'layer': 3, 'epoch': 7},\n",
    "#          {'hidden_size': 8, 'layer': 3, 'epoch': 8},\n",
    "#          {'hidden_size': 8, 'layer': 3, 'epoch': 9},\n",
    "#          {'hidden_size': 8, 'layer': 3, 'epoch': 10},\n",
    "#          {'hidden_size': 8, 'layer': 3, 'epoch': 11},\n",
    "#          {'hidden_size': 8, 'layer': 3, 'epoch': 12},\n",
    "#          {'hidden_size': 8, 'layer': 3, 'epoch': 13},\n",
    "#          {'hidden_size': 8, 'layer': 3, 'epoch': 14},\n",
    "#          {'hidden_size': 8, 'layer': 3, 'epoch': 15},\n",
    "#          {'hidden_size': 8, 'layer': 3, 'epoch': 16},\n",
    "#          {'hidden_size': 8, 'layer': 3, 'epoch': 17},\n",
    "#          {'hidden_size': 8, 'layer': 3, 'epoch': 18},\n",
    "#          {'hidden_size': 8, 'layer': 3, 'epoch': 19},\n",
    "#          {'hidden_size': 8, 'layer': 3, 'epoch': 20}]\n",
    "\n",
    "tests = [{'hidden_size': 8, 'layer': 3, 'epoch': 8}]\n",
    "\n",
    "import time\n",
    "\n",
    "\n",
    "\n",
    "for test in tests:\n",
    "    print(test)\n",
    "    hidden_size = test['hidden_size']\n",
    "    epoch_load = test['epoch']\n",
    "    num_layers = test['layer']\n",
    "    # group_id = test['group']\n",
    "\n",
    "    #define model\n",
    "    lstm = models.LSTM(1, 1, num_layers, hidden_size, drop_out, learning_rate).to(device)\n",
    "    loss_func = nn.MSELoss()\n",
    "    optimizer= torch.optim.Adam(lstm.parameters(), lr=learning_rate)\n",
    "    lstm_trainer.set_model(lstm, loss_func, optimizer)\n",
    "\n",
    "    #load weights\n",
    "    model_name = \"saves/all_data/lstm_hid\"+str(hidden_size)+\"_layer3_drop0_\"\n",
    "    # model_name = \"saves/grouped/hba1c-bmi/\"+str(num_layers)+\"_layer_\"+str(group_id)+\"/lstm_hid\"+str(hidden_size)+\"_\"\n",
    "    lstm_trainer.load_weights(model_name+str(epoch_load)+\".pt\")\n",
    "\n",
    "    # print(sum(p.numel() for p in lstm.parameters()))\n",
    "    # print(sum(p.numel() for p in lstm.parameters() if p.requires_grad))\n",
    "\n",
    "    # test and time\n",
    "    start = time.time()\n",
    "    log = lstm_trainer.test(500)\n",
    "    end = time.time()\n",
    "    print(end-start)"
   ],
   "metadata": {
    "collapsed": false,
    "pycharm": {
     "name": "#%%\n"
    }
   }
  },
  {
   "cell_type": "code",
   "execution_count": 11,
   "outputs": [],
   "source": [
    "import pickle\n",
    "pickle.dump(log, open('saves/outputs/lstm_hid8_output_small.pkl', 'wb'))"
   ],
   "metadata": {
    "collapsed": false,
    "pycharm": {
     "name": "#%%\n"
    }
   }
  },
  {
   "cell_type": "code",
   "execution_count": 122,
   "outputs": [
    {
     "name": "stdout",
     "output_type": "stream",
     "text": [
      "avg ESOD: 0.1216526160364409\n"
     ]
    }
   ],
   "source": [
    "#ESOD\n",
    "\n",
    "import math\n",
    "esod = 0\n",
    "for i in range (0, len(log)):\n",
    "    pred = log[i][0]\n",
    "    y = log[i][1]\n",
    "\n",
    "    esod_pred = 0\n",
    "    esod_y = 0\n",
    "    for j in range(2, len(pred)):\n",
    "        esod_pred += math.pow((pred[j] - 2*pred[j-1] + pred[j-2]), 2)\n",
    "        esod_y += math.pow((y[j] - 2*y[j-1] + y[j-2]), 2)\n",
    "    if (esod_y != 0):\n",
    "        esod += esod_pred / esod_y\n",
    "\n",
    "print(\"avg ESOD:\", esod/len(log))"
   ],
   "metadata": {
    "collapsed": false,
    "pycharm": {
     "name": "#%%\n"
    }
   }
  },
  {
   "cell_type": "code",
   "execution_count": null,
   "outputs": [],
   "source": [
    "esod_pred = 0"
   ],
   "metadata": {
    "collapsed": false,
    "pycharm": {
     "name": "#%%\n"
    }
   }
  },
  {
   "cell_type": "code",
   "execution_count": 5,
   "outputs": [
    {
     "name": "stdout",
     "output_type": "stream",
     "text": [
      "132\n"
     ]
    },
    {
     "data": {
      "text/plain": "<matplotlib.collections.PathCollection at 0x26e9ca2b3a0>"
     },
     "execution_count": 5,
     "metadata": {},
     "output_type": "execute_result"
    },
    {
     "data": {
      "text/plain": "<Figure size 432x288 with 1 Axes>",
      "image/png": "[encoded data removed]"
     },
     "metadata": {
      "needs_background": "light"
     },
     "output_type": "display_data"
    }
   ],
   "source": [
    "X = [ 46.,  55.,  64.,  73.,  74.,  74.,  73.,  74.,  79.,  84.,  88.,  92.,\n",
    "94.,  95.,  98., 103., 111., 118., 123., 127., 127., 125., 124., 127.,\n",
    "135., 149., 166., 186., 210., 232., 252., 268., 285., 301., 314., 319.,\n",
    "316., 309., 302., 298., 295., 292., 291., 290., 290., 289., 288., 286.,\n",
    "282., 277., 272., 270., 268., 265., 260., 255., 250., 244., 237., 229.,\n",
    "218., 206., 193., 180., 168., 155., 142., 129., 118., 108.,  98.,  89.,\n",
    "82.,  76.,  72.,  69.,  67.,  67.,  68.,  72.,  78.,  87.,  99., 113.,\n",
    "129., 142., 158., 174., 193., 212., 231., 247., 255., 254., 246., 238.,\n",
    "238., 240., 242., 235., 226., 216., 209., 202., 195., 186., 175., 160.,\n",
    "143., 130., 122., 117., 113., 110., 107., 105., 104., 106., 107., 109.,\n",
    "110., 113., 116., 118., 118., 118., 117., 117., 119., 123., 129., 137.]\n",
    "\n",
    "pred = [193.6785,  56.0964,  51.8710,  80.2566,  73.5541,  71.1381,  71.6078,\n",
    "        75.0809,  84.3357,  87.4930,  90.4614,  95.1131,  95.1361,  95.5744,\n",
    "        101.0354, 107.9372, 118.7473, 124.1407, 126.7885, 130.2184, 126.4054,\n",
    "        122.8202, 123.3869, 130.4462, 142.9191, 162.1062, 180.7302, 202.0931,\n",
    "        227.9289, 249.4901, 268.0135, 280.1395, 297.9261, 313.1545, 322.9258,\n",
    "        320.1580, 311.0115, 302.3672, 296.4103, 295.3190, 292.6397, 288.7579,\n",
    "        290.4130, 289.1791, 289.6539, 287.6734, 286.7941, 283.6561, 277.5372,\n",
    "        271.8318, 267.4391, 268.4200, 265.8665, 261.5781, 255.1380, 250.7857,\n",
    "        245.9087, 238.8817, 230.7215, 221.7852, 207.9848, 196.1792, 182.5964,\n",
    "        169.0746, 158.2109, 145.1066, 131.3689, 119.6674, 110.4299, 100.9340,\n",
    "        90.6125,  83.2090,  78.3334,  72.6629,  69.8191,  67.3750,  66.1550,\n",
    "        68.2259,  70.2004,  77.6719,  84.8762,  95.2254, 109.7273, 126.1296,\n",
    "        143.6051, 152.7384, 170.3281, 187.8651, 208.1371, 226.9946, 246.0975,\n",
    "        259.6434, 259.8273, 251.0414, 238.3893, 231.1711, 239.3188, 242.0546,\n",
    "        243.4035, 227.9903, 217.1566, 207.4139, 203.4830, 196.1950, 188.9890,\n",
    "        178.1659, 165.2526, 148.6429, 130.2570, 120.5593, 116.8088, 113.6773,\n",
    "        109.9583, 107.5505, 104.3979, 103.3118, 103.2427, 108.1524, 107.6470,\n",
    "        110.6267, 110.6828, 115.7255, 118.7638, 119.4035, 117.5617, 117.9306,\n",
    "        116.0492, 117.0740, 121.1893, 127.0235, 134.7721, 144.0739]\n",
    "\n",
    "plt.scatter(range(0,132), X, marker='o')\n",
    "plt.scatter(range(0,132), pred, marker='x')"
   ],
   "metadata": {
    "collapsed": false,
    "pycharm": {
     "name": "#%%\n"
    }
   }
  },
  {
   "cell_type": "code",
   "execution_count": null,
   "outputs": [],
   "source": [
    "lstm_trainer.clear()"
   ],
   "metadata": {
    "collapsed": false,
    "pycharm": {
     "name": "#%%\n"
    }
   }
  }
 ],
 "metadata": {
  "kernelspec": {
   "display_name": "Python 3 (ipykernel)",
   "language": "python",
   "name": "python3"
  },
  "language_info": {
   "codemirror_mode": {
    "name": "ipython",
    "version": 3
   },
   "file_extension": ".py",
   "mimetype": "text/x-python",
   "name": "python",
   "nbconvert_exporter": "python",
   "pygments_lexer": "ipython3",
   "version": "3.9.6"
  }
 },
 "nbformat": 4,
 "nbformat_minor": 4
}