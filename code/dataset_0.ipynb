{
 "cells": [
  {
   "cell_type": "code",
   "execution_count": 8,
   "outputs": [],
   "source": [
    "import pandas as pd\n",
    "import numpy as np\n",
    "# import matplotlib as mpl\n",
    "import matplotlib.pyplot as plt\n",
    "import IPython\n",
    "from IPython.display import display\n",
    "#import seaborn as sns\n",
    "\n",
    "import preprocessing\n",
    "\n",
    "seed = 1289719\n"
   ],
   "metadata": {
    "collapsed": false,
    "pycharm": {
     "name": "#%%\n"
    }
   }
  },
  {
   "cell_type": "code",
   "execution_count": 13,
   "outputs": [
    {
     "data": {
      "text/plain": "<module 'preprocessing' from 'C:\\\\Users\\\\jakub\\\\Documents\\\\DATA\\\\Indv_proj\\\\code\\\\preprocessing.py'>"
     },
     "execution_count": 13,
     "metadata": {},
     "output_type": "execute_result"
    }
   ],
   "source": [
    "import importlib\n",
    "importlib.reload(preprocessing)"
   ],
   "metadata": {
    "collapsed": false,
    "pycharm": {
     "name": "#%%\n"
    }
   }
  },
  {
   "cell_type": "markdown",
   "metadata": {},
   "source": [
    "## Create Train and Test Sets"
   ]
  },
  {
   "cell_type": "code",
   "execution_count": 10,
   "metadata": {},
   "outputs": [],
   "source": [
    "series_min_len = 144 #12hrs\n",
    "pred_horizon = 12 # 1hr\n",
    "input_size = series_min_len - pred_horizon"
   ]
  },
  {
   "cell_type": "code",
   "execution_count": 4,
   "metadata": {
    "pycharm": {
     "name": "#%%\n"
    }
   },
   "outputs": [
    {
     "name": "stdout",
     "output_type": "stream",
     "text": [
      "6391075 5112860 1278215\n",
      "6391075 5112860 1278215\n"
     ]
    }
   ],
   "source": [
    "#load\n",
    "import pickle\n",
    "[X_train, X_test, y_train, y_test] = pickle.load(open('timeseries_all-patients_step-1_len-6391075.pkl', 'rb'))\n",
    "print(len(X_train)+len(X_test), len(X_train), len(X_test) )\n",
    "print(len(y_train)+len(y_test), len(y_train), len(y_test))\n"
   ]
  },
  {
   "cell_type": "markdown",
   "metadata": {},
   "source": [
    "#### All Patients - CGM only"
   ]
  },
  {
   "cell_type": "code",
   "execution_count": 12,
   "metadata": {
    "pycharm": {
     "name": "#%%\n"
    }
   },
   "outputs": [],
   "source": [
    "num_groups = 1\n",
    "series_min_len = 144 #12-36hrs\n",
    "df_pt_groups_cols=[\"HbA1c\", \"BMI\"]\n",
    "#df_pt_groups_cols = [\"BMI\", \"Age\"]\n",
    "\n",
    "df_cgm, df_pt_all = preprocessing.get_df_all('Data-CITY', num_groups, df_pt_groups_cols)\n",
    "#PtID, HbA1c, Weight, Height, PEHeartRt, PEAbnormal, Sex, Black, White, Asian, Mixed, Uknown, Native, EducationLevel, AnnualIncome, BMI, Group"
   ]
  },
  {
   "cell_type": "code",
   "execution_count": 11,
   "metadata": {
    "pycharm": {
     "name": "#%%\n"
    }
   },
   "outputs": [
    {
     "ename": "NameError",
     "evalue": "name 'df_pt_all' is not defined",
     "output_type": "error",
     "traceback": [
      "\u001B[1;31m---------------------------------------------------------------------------\u001B[0m",
      "\u001B[1;31mNameError\u001B[0m                                 Traceback (most recent call last)",
      "\u001B[1;32m~\\AppData\\Local\\Temp/ipykernel_36640/1977665272.py\u001B[0m in \u001B[0;36m<module>\u001B[1;34m\u001B[0m\n\u001B[1;32m----> 1\u001B[1;33m \u001B[0mgroup_ids\u001B[0m \u001B[1;33m=\u001B[0m \u001B[0mdf_pt_all\u001B[0m\u001B[1;33m.\u001B[0m\u001B[0mindex\u001B[0m\u001B[1;33m\u001B[0m\u001B[1;33m\u001B[0m\u001B[0m\n\u001B[0m\u001B[0;32m      2\u001B[0m \u001B[0mseries\u001B[0m \u001B[1;33m=\u001B[0m \u001B[0mpreprocessing\u001B[0m\u001B[1;33m.\u001B[0m\u001B[0mcreate_time_series\u001B[0m\u001B[1;33m(\u001B[0m\u001B[0mgroup_ids\u001B[0m\u001B[1;33m,\u001B[0m \u001B[0mdf_cgm\u001B[0m\u001B[1;33m,\u001B[0m \u001B[0mseries_min_len\u001B[0m\u001B[1;33m)\u001B[0m\u001B[1;33m\u001B[0m\u001B[1;33m\u001B[0m\u001B[0m\n\u001B[0;32m      3\u001B[0m \u001B[0mseries\u001B[0m \u001B[1;33m=\u001B[0m \u001B[0mnp\u001B[0m\u001B[1;33m.\u001B[0m\u001B[0masarray\u001B[0m\u001B[1;33m(\u001B[0m\u001B[0mseries\u001B[0m\u001B[1;33m)\u001B[0m\u001B[1;33m\u001B[0m\u001B[1;33m\u001B[0m\u001B[0m\n",
      "\u001B[1;31mNameError\u001B[0m: name 'df_pt_all' is not defined"
     ]
    }
   ],
   "source": [
    "group_ids = df_pt_all.index\n",
    "series = preprocessing.create_time_series(group_ids, df_cgm, series_min_len)\n",
    "series = np.asarray(series)"
   ]
  },
  {
   "cell_type": "code",
   "execution_count": 7,
   "outputs": [
    {
     "name": "stdout",
     "output_type": "stream",
     "text": [
      "(49769, 144)\n",
      "(39815, 144)\n",
      "(9954, 144)\n"
     ]
    }
   ],
   "source": [
    "from sklearn.model_selection import train_test_split\n",
    "series_train, series_test = train_test_split(series, test_size=0.2, random_state=seed)\n",
    "print(series.shape)\n",
    "print(series_train.shape)\n",
    "print(series_test.shape)"
   ],
   "metadata": {
    "collapsed": false,
    "pycharm": {
     "name": "#%%\n"
    }
   }
  },
  {
   "cell_type": "code",
   "execution_count": 8,
   "outputs": [
    {
     "name": "stdout",
     "output_type": "stream",
     "text": [
      "(49769, 144)\n"
     ]
    }
   ],
   "source": [
    "print(series.shape)"
   ],
   "metadata": {
    "collapsed": false,
    "pycharm": {
     "name": "#%%\n"
    }
   }
  },
  {
   "cell_type": "code",
   "execution_count": 9,
   "outputs": [],
   "source": [
    "X_train = series_train[:, 0:input_size]\n",
    "y_train = series_train[:, 1:input_size+1]\n",
    "\n",
    "X_test = series_test[:, 0:input_size]\n",
    "y_test = series_test[:, input_size:series_min_len+1]\n",
    "\n",
    "X_train = np.reshape(X_train, (X_train.shape[0], X_train.shape[1], 1))\n",
    "y_train = np.reshape(y_train, (y_train.shape[0], y_train.shape[1], 1))\n",
    "X_test = np.reshape(X_test, (X_test.shape[0], X_test.shape[1], 1))"
   ],
   "metadata": {
    "collapsed": false,
    "pycharm": {
     "name": "#%%\n"
    }
   }
  },
  {
   "cell_type": "code",
   "execution_count": null,
   "metadata": {},
   "outputs": [],
   "source": [
    "# from sklearn.model_selection import train_test_split\n",
    "#\n",
    "# X_train, X_test, y_train, y_test = train_test_split(X, y, test_size=0.2, random_state=seed)\n",
    "#\n",
    "# print(len(X), len(X_train), len(X_test))\n",
    "# print(len(y), len(y_train), len(y_test))"
   ]
  },
  {
   "cell_type": "code",
   "execution_count": 10,
   "metadata": {
    "pycharm": {
     "name": "#%%\n"
    }
   },
   "outputs": [],
   "source": [
    "#save\n",
    "import pickle\n",
    "pickle.dump([X_train, X_test, y_train, y_test], open('timeseries_all-patients_step-144_len-49769.pkl', 'wb'))"
   ]
  },
  {
   "cell_type": "markdown",
   "source": [
    "#### X Clustered Patients - CGM only"
   ],
   "metadata": {
    "collapsed": false
   }
  },
  {
   "cell_type": "code",
   "execution_count": 14,
   "outputs": [],
   "source": [
    "num_groups = 3\n",
    "series_min_len = 144 #12-36hrs\n",
    "df_pt_groups_cols=[\"HbA1c\", \"AnnualIncome\"]\n",
    "# df_pt_groups_cols = [\"BMI\", \"Age\"]\n",
    "\n",
    "df_cgm, df_pt_all_groups = preprocessing.get_df_all('Data-CITY', num_groups, df_pt_groups_cols)\n",
    "#PtID, HbA1c, Weight, Height, PEHeartRt, PEAbnormal, Sex, Black, White, Asian, Mixed, Uknown, Native, EducationLevel, AnnualIncome, BMI, Group"
   ],
   "metadata": {
    "collapsed": false,
    "pycharm": {
     "name": "#%%\n"
    }
   }
  },
  {
   "cell_type": "code",
   "execution_count": 15,
   "outputs": [
    {
     "name": "stdout",
     "output_type": "stream",
     "text": [
      "GROUP  0\n",
      "(3296488, 144)\n",
      "(2637190, 144)\n",
      "(659298, 144)\n",
      "GROUP  1\n",
      "(1203470, 144)\n",
      "(962776, 144)\n",
      "(240694, 144)\n",
      "GROUP  2\n",
      "(1891117, 144)\n",
      "(1512893, 144)\n",
      "(378224, 144)\n"
     ]
    }
   ],
   "source": [
    "from sklearn.model_selection import train_test_split\n",
    "import pickle\n",
    "\n",
    "for i in range(0, num_groups):\n",
    "    print(\"GROUP \", i)\n",
    "    group_ids =  df_pt_all_groups.get_group(i).index\n",
    "    # print(group_ids)\n",
    "\n",
    "    #TODO: train_test split patients\n",
    "\n",
    "    series = preprocessing.create_time_series(group_ids, df_cgm, series_min_len)\n",
    "    series = np.asarray(series)\n",
    "\n",
    "    series_train, series_test = train_test_split(series, test_size=0.2, random_state=seed)\n",
    "    print(series.shape)\n",
    "    print(series_train.shape)\n",
    "    print(series_test.shape)\n",
    "\n",
    "    X_train = series_train[:, 0:input_size]\n",
    "    y_train = series_train[:, 1:input_size+1]\n",
    "\n",
    "    X_test = series_test[:, 0:input_size]\n",
    "    y_test = series_test[:, input_size:series_min_len+1]\n",
    "\n",
    "    X_train = np.reshape(X_train, (X_train.shape[0], X_train.shape[1], 1))\n",
    "    y_train = np.reshape(y_train, (y_train.shape[0], y_train.shape[1], 1))\n",
    "    X_test = np.reshape(X_test, (X_test.shape[0], X_test.shape[1], 1))\n",
    "\n",
    "    pickle.dump([X_train, X_test, y_train, y_test], open('timeseries_'+str(i)+'-patients_step-1_len-x.pkl', 'wb'))"
   ],
   "metadata": {
    "collapsed": false,
    "pycharm": {
     "name": "#%%\n"
    }
   }
  }
 ],
 "metadata": {
  "kernelspec": {
   "display_name": "Python 3 (ipykernel)",
   "language": "python",
   "name": "python3"
  },
  "language_info": {
   "codemirror_mode": {
    "name": "ipython",
    "version": 3
   },
   "file_extension": ".py",
   "mimetype": "text/x-python",
   "name": "python",
   "nbconvert_exporter": "python",
   "pygments_lexer": "ipython3",
   "version": "3.9.6"
  }
 },
 "nbformat": 4,
 "nbformat_minor": 4
}